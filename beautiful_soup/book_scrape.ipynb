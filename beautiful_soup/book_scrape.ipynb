{
 "cells": [
  {
   "cell_type": "code",
   "execution_count": null,
   "id": "b7960d2a",
   "metadata": {},
   "outputs": [
    {
     "name": "stderr",
     "output_type": "stream",
     "text": [
      "C:\\Users\\henry\\AppData\\Local\\Temp\\ipykernel_15596\\279235608.py:13: MarkupResemblesLocatorWarning: The input looks more like a URL than markup. You may want to use an HTTP client like requests to get the document behind the URL, and feed that document to Beautiful Soup.\n",
      "  soup = BeautifulSoup(url, \"html.parser\", from_encoding='utf-8')\n"
     ]
    }
   ],
   "source": [
    "import requests\n",
    "from bs4 import BeautifulSoup\n",
    "import json\n",
    "import os\n",
    "\n",
    "base_url = \"https://books.toscrape.com/\" \n",
    "page_url = \"catalogue/page-1.html\"\n",
    "\n",
    "books = []\n",
    "\n",
    "while True:\n",
    "    url = base_url + page_url\n",
    "    res = requests.get(url) # feed url for html return\n",
    "    res.encoding = 'utf-8'\n",
    "    soup = BeautifulSoup(res.text, \"html.parser\", from_encoding='utf-8')\n",
    "\n",
    "    for item in soup.select(\"article.product_pod\"): \n",
    "        title = item.h3.a[\"title\"] # object navigation approach\n",
    "        price = item.select_one(\"p.price_color\").text  # css selector approach\n",
    "        availability = item.select_one(\"p.instock.availability\").get_text().strip() # ignore inner tag text selection\n",
    "\n",
    "        books.append({\"title\": title,\n",
    "            \"price\": price,\n",
    "            \"availability\": availability})\n",
    "\n",
    "    next_button = soup.select_one(\"li.next a\") # find `anchor-tag` inside `list-tag` with class_name `next`\n",
    "    if not next_button:\n",
    "        break\n",
    "    page_url = \"catalogue/\" + next_button[\"href\"]\n",
    "\n",
    "os.chdir(r\"..\\data\")\n",
    "with open(\"book_to_scrape.json\", \"w\", encoding=\"utf-8\") as file:\n",
    "    json.dump(books, file, ensure_ascii=False, indent=4)"
   ]
  },
  {
   "cell_type": "markdown",
   "id": "8808785b",
   "metadata": {},
   "source": [
    "## The HTML structure\n",
    "**Single article tag**\n",
    "\n",
    "<article class=\"product_pod\">\n",
    "  .\n",
    "  .\n",
    "  .\n",
    "  <h3><a href=\"...\" title=\"Shakespeare's Sonnets\">Shakespeare's Sonnets</a></h3>\n",
    "  <p class=\"price_color\">£20.66</p>\n",
    "  <p class=\"instock availability\">In stock</p>\n",
    "</article>\n",
    "\n",
    "\n",
    "**Pager Container**\n",
    "\n",
    "<div>\n",
    "  <ul class=\"pager\">\n",
    "    <li class=\"current\"> Page 1 of 50 </li>\n",
    "    <li class=\"next\">\n",
    "      <a href=\"page-2.html\">next</a>\n",
    "    </li>\n",
    "  </ul>\n",
    "</div>\n",
    "\n"
   ]
  }
 ],
 "metadata": {
  "kernelspec": {
   "display_name": "base",
   "language": "python",
   "name": "python3"
  },
  "language_info": {
   "codemirror_mode": {
    "name": "ipython",
    "version": 3
   },
   "file_extension": ".py",
   "mimetype": "text/x-python",
   "name": "python",
   "nbconvert_exporter": "python",
   "pygments_lexer": "ipython3",
   "version": "3.12.3"
  }
 },
 "nbformat": 4,
 "nbformat_minor": 5
}
